{
 "cells": [
  {
   "cell_type": "code",
   "execution_count": null,
   "metadata": {},
   "outputs": [],
   "source": [
    "#This updates the injury test file: https://docs.google.com/spreadsheets/d/19lkC0kjt52UhysvWCu17YCz8CzZajQ4FzsZ3L8zeZcc/edit"
   ]
  },
  {
   "cell_type": "code",
   "execution_count": null,
   "metadata": {},
   "outputs": [],
   "source": [
    "#Packages\n",
    "#Time\n",
    "import time\n",
    "from datetime import datetime, timedelta, timezone\n",
    "from datetime import date\n",
    "timestart = datetime.now(timezone(timedelta(hours=-4), 'EST'))\n",
    "#Pandas\n",
    "import pandas as pd\n",
    "#Gspread\n",
    "import gspread\n",
    "import gspread_dataframe as gd\n",
    "from oauth2client.service_account import ServiceAccountCredentials\n",
    "#Beatiful Soup\n",
    "from bs4 import BeautifulSoup\n",
    "import bs4 as bs\n",
    "#UrlLib\n",
    "from urllib.request import Request, urlopen\n",
    "import urllib.request, json "
   ]
  },
  {
   "cell_type": "code",
   "execution_count": null,
   "metadata": {},
   "outputs": [],
   "source": [
    "#defining header\n",
    "header= {'User-Agent': 'Mozilla/5.0 (X11; Linux x86_64) ' \n",
    "      'AppleWebKit/537.11 (KHTML, like Gecko) '\n",
    "      'Chrome/23.0.1271.64 Safari/537.11',\n",
    "      'Accept': 'text/html,application/xhtml+xml,application/xml;q=0.9,*/*;q=0.8',\n",
    "      'Accept-Charset': 'ISO-8859-1,utf-8;q=0.7,*;q=0.3',\n",
    "      'Accept-Encoding': 'none',\n",
    "      'Accept-Language': 'en-US,en;q=0.8',\n",
    "      'Connection': 'keep-alive'}"
   ]
  },
  {
   "cell_type": "code",
   "execution_count": null,
   "metadata": {},
   "outputs": [],
   "source": [
    "#Let's get the Slate Data\n",
    "#Let's Open NBASlateFeedBuild\n",
    "scope = ['https://spreadsheets.google.com/feeds', 'https://www.googleapis.com/auth/drive']\n",
    "credentials = ServiceAccountCredentials.from_json_keyfile_name('creds.json', scope) \n",
    "gc = gspread.authorize(credentials)\n",
    "sheet = gc.open('InjuryTest')\n",
    "w1 = sheet.worksheet(\"Control\")\n",
    "\n",
    "nfllink = w1.acell('b1').value\n",
    "nbalink = w1.acell('b2').value\n",
    "\n",
    "req = urllib.request.Request(url=nfllink, headers=header)\n",
    "with urllib.request.urlopen(req) as url:\n",
    "    datanfl = json.loads(url.read().decode())\n",
    "\n",
    "    \n",
    "req = urllib.request.Request(url=nbalink, headers=header)\n",
    "with urllib.request.urlopen(req) as url:\n",
    "    datanba = json.loads(url.read().decode())"
   ]
  },
  {
   "cell_type": "code",
   "execution_count": null,
   "metadata": {},
   "outputs": [],
   "source": [
    "datatable=[] \n",
    "for players in datanfl:\n",
    "    PlayerID = players['PlayerID']\n",
    "    Player = players['Name']\n",
    "    Position = players['Position']\n",
    "    Team = players['Team']\n",
    "    Inj = players['InjuryBodyPart']\n",
    "    Injn =players['InjuryNotes']\n",
    "    InjS =players['InjuryStatus']\n",
    "    DepthPos = players['DepthPosition']\n",
    "    DepthOrder = players['DepthOrder']\n",
    "    DepthCat = players['DepthPositionCategory']\n",
    "    Inactive = players['DeclaredInactive']\n",
    "    \n",
    "    row=[PlayerID,Player,Position,Team,Inj,Injn,InjS,DepthPos,DepthOrder, DepthCat, Inactive]\n",
    "    datatable.append(row)"
   ]
  },
  {
   "cell_type": "code",
   "execution_count": null,
   "metadata": {},
   "outputs": [],
   "source": [
    "df=pd.DataFrame(datatable)\n",
    "df.columns = [\"PlayerID\",\"Player\",\"Position\",\"Team\",\"Inj\",\"Inj Notes\", \"Inj Status\" ,\"DepthPos\",\"DepthOrder\", \"DepthCat\", \"Inactive\"]\n",
    "df"
   ]
  },
  {
   "cell_type": "code",
   "execution_count": null,
   "metadata": {},
   "outputs": [],
   "source": [
    "datatable=[]\n",
    "\n",
    "for players in datanba:\n",
    "    PlayerID = players['PlayerID']\n",
    "    Player = players['FirstName']+' '+players['LastName']\n",
    "    Position = players['Position']\n",
    "    Team = players['Team']\n",
    "    try:\n",
    "        Inj = players['InjuryBodyPart']\n",
    "        Injn =players['InjuryNotes']\n",
    "        InjS =players['InjuryStatus']\n",
    "    except:\n",
    "        Inj = ''\n",
    "        Injn =''\n",
    "        InjS =''\n",
    "        \n",
    "    DepthPos = players['DepthChartPosition']\n",
    "    DepthOrder = players['DepthChartOrder']\n",
    "    if Inj is None:\n",
    "        blank=''\n",
    "    else:\n",
    "        row=[PlayerID,Player,Position,Team,Inj,Injn,InjS,DepthPos,DepthOrder]\n",
    "        datatable.append(row)"
   ]
  },
  {
   "cell_type": "code",
   "execution_count": null,
   "metadata": {},
   "outputs": [],
   "source": [
    "df2=pd.DataFrame(datatable)\n",
    "df2.columns = [\"PlayerID\",\"Player\",\"Position\",\"Team\",\"Inj\",\"Inj Notes\", \"Inj Status\" ,\"DepthPos\",\"DepthOrder\"]\n",
    "df2"
   ]
  },
  {
   "cell_type": "code",
   "execution_count": null,
   "metadata": {},
   "outputs": [],
   "source": [
    "#Let's push props\n",
    "Goal = sheet.worksheet(\"NFL\")\n",
    "sheet.values_clear(\"NFL!a1:k1000\")\n",
    "gd.set_with_dataframe(Goal, df, row=1,col=1)\n",
    "timenow = datetime.now(timezone(timedelta(hours=-4), 'EST'))\n",
    "w1.update('c1', timenow.strftime(\"%B %d, %Y %H:%M:%S\"))"
   ]
  },
  {
   "cell_type": "code",
   "execution_count": null,
   "metadata": {},
   "outputs": [],
   "source": [
    "#Let's push props\n",
    "Goal = sheet.worksheet(\"NBA\")\n",
    "sheet.values_clear(\"NBA!a1:z1000\")\n",
    "gd.set_with_dataframe(Goal, df2, row=1,col=1)\n",
    "timenow = datetime.now(timezone(timedelta(hours=-4), 'EST'))\n",
    "w1.update('c2', timenow.strftime(\"%B %d, %Y %H:%M:%S\"))"
   ]
  },
  {
   "cell_type": "code",
   "execution_count": null,
   "metadata": {},
   "outputs": [],
   "source": []
  }
 ],
 "metadata": {
  "kernelspec": {
   "display_name": "Python 3",
   "language": "python",
   "name": "python3"
  },
  "language_info": {
   "codemirror_mode": {
    "name": "ipython",
    "version": 3
   },
   "file_extension": ".py",
   "mimetype": "text/x-python",
   "name": "python",
   "nbconvert_exporter": "python",
   "pygments_lexer": "ipython3",
   "version": "3.7.6"
  },
  "vscode": {
   "interpreter": {
    "hash": "fd6084b403986213221ed7cab1a0e76c57d8f3f556fd3c19c2ecd355b15fd98b"
   }
  }
 },
 "nbformat": 4,
 "nbformat_minor": 4
}
